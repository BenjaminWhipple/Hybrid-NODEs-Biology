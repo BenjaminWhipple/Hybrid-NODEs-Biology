{
 "cells": [
  {
   "cell_type": "code",
   "execution_count": 5,
   "id": "1b2cc1a5",
   "metadata": {},
   "outputs": [
    {
     "name": "stdout",
     "output_type": "stream",
     "text": [
      "JAX Version : 0.4.6\n"
     ]
    }
   ],
   "source": [
    "import jax\n",
    "\n",
    "print(\"JAX Version : {}\".format(jax.__version__))"
   ]
  },
  {
   "cell_type": "code",
   "execution_count": 6,
   "id": "b9285a7a",
   "metadata": {},
   "outputs": [],
   "source": [
    "from jax import numpy as jnp\n",
    "from jax import grad, value_and_grad\n",
    "from jax import jit, vmap\n",
    "import numpy as np"
   ]
  },
  {
   "cell_type": "code",
   "execution_count": 7,
   "id": "2f993cf7",
   "metadata": {},
   "outputs": [
    {
     "data": {
      "text/plain": [
       "((800,), (200,), (800,), (200,))"
      ]
     },
     "execution_count": 7,
     "metadata": {},
     "output_type": "execute_result"
    }
   ],
   "source": [
    "#from sklearn import datasets\n",
    "from sklearn.model_selection import train_test_split\n",
    "#from jax import numpy as jnp\n",
    "\n",
    "#X, Y = datasets.load_boston(return_X_y=True)\n",
    "X = jnp.linspace(0,jnp.pi,1000)\n",
    "Y = jnp.sin(X)\n",
    "\n",
    "#print(X)\n",
    "#print(y)\n",
    "\n",
    "X_train, X_test, Y_train, Y_test = train_test_split(X, Y, train_size=0.8, random_state=123)\n",
    "\n",
    "X_train = jnp.array(X_train, dtype=jnp.float32)\n",
    "X_test = jnp.array(X_test, dtype=jnp.float32)\n",
    "Y_train = jnp.array(Y_train, dtype=jnp.float32)\n",
    "Y_test = jnp.array(Y_test, dtype=jnp.float32)\n",
    "\n",
    "samples = X_train.shape\n",
    "\n",
    "X_train.shape, X_test.shape, Y_train.shape, Y_test.shape"
   ]
  },
  {
   "cell_type": "code",
   "execution_count": 8,
   "id": "6ca6c686",
   "metadata": {},
   "outputs": [],
   "source": [
    "#mean = X_train.mean(axis=0)\n",
    "#std = X_train.std(axis=0)\n",
    "\n",
    "#X_train = (X_train - mean) / std\n",
    "#X_test = (X_test - mean) / std"
   ]
  },
  {
   "cell_type": "code",
   "execution_count": 19,
   "id": "97b39afd",
   "metadata": {},
   "outputs": [
    {
     "name": "stdout",
     "output_type": "stream",
     "text": [
      "[[Array([ 0.6423273 ,  0.39472246, -0.42661452, ...,  0.68257403,\n",
      "        0.09241819, -0.08388805], dtype=float32), Array([ 0.6423273 ,  0.39472246, -0.42661452, ...,  0.68257403,\n",
      "        0.09241819, -0.08388805], dtype=float32)], [Array([[ 0.36326313,  0.67431045, -0.34833646, ..., -0.22690678,\n",
      "         0.78762126,  0.40378356],\n",
      "       [ 0.01716638,  0.8024769 , -0.50727034, ..., -0.8463812 ,\n",
      "         0.6829629 ,  0.5702553 ],\n",
      "       [ 0.9183562 , -0.54055095, -0.84586954, ..., -0.93066454,\n",
      "         0.00561404,  0.10867071],\n",
      "       ...,\n",
      "       [-0.9970796 , -0.9228153 , -0.3602624 , ...,  0.88771844,\n",
      "        -0.63122797, -0.5530937 ],\n",
      "       [-0.33314276, -0.76246595, -0.55924153, ...,  0.24797583,\n",
      "         0.73389363,  0.02865171],\n",
      "       [-0.1650505 ,  0.7162664 , -0.23983073, ...,  0.90228057,\n",
      "         0.87591887,  0.83819175]], dtype=float32), Array([ 0.6423273 ,  0.39472246, -0.42661452, ...,  0.68257403,\n",
      "        0.09241819, -0.08388805], dtype=float32)], [Array([[ 0.6423273 ,  0.39472246, -0.42661452, ...,  0.68257403,\n",
      "         0.09241819, -0.08388805]], dtype=float32), Array([-0.54859734], dtype=float32)]]\n"
     ]
    }
   ],
   "source": [
    "def LinearLayer(weights, input_data, activation=lambda x: x):\n",
    "    w, b = weights\n",
    "    #print(weights)\n",
    "    #print(input_data)\n",
    "    out = jnp.dot(input_data, w.T) + b\n",
    "    return activation(out)\n",
    "\n",
    "def InitializeWeights(layer_sizes, seed):\n",
    "    weights = []\n",
    "\n",
    "    for i, units in enumerate(layer_sizes):\n",
    "        if i==0:\n",
    "            #w = jax.random.uniform(key=seed, shape=(units, features), minval=-1.0, maxval=1.0, dtype=jnp.float32)\n",
    "            w = jax.random.uniform(key=seed, shape=(units,), minval=-1.0, maxval=1.0, dtype=jnp.float32)\n",
    "        else:\n",
    "            w = jax.random.uniform(key=seed, shape=(units, layer_sizes[i-1]), minval=-1.0, maxval=1.0,\n",
    "                                   dtype=jnp.float32)\n",
    "\n",
    "        b = jax.random.uniform(key=seed, minval=-1.0, maxval=1.0, shape=(units,), dtype=jnp.float32)\n",
    "\n",
    "        weights.append([w,b])\n",
    "\n",
    "    return weights\n",
    "\n",
    "\n",
    "seed = jax.random.PRNGKey(123)\n",
    "weights = InitializeWeights([1024,1024,1], seed)\n",
    "#weights = InitializeWeights([25,25], seed)\n",
    "'''\n",
    "for w in weights:\n",
    "    print(w[0].shape, w[1].shape)\n",
    "'''\n",
    "def Relu(x):\n",
    "    return jnp.maximum(x, jnp.zeros_like(x)) # max(0,x)\n",
    "\n",
    "Relu_jit = jit(Relu)\n",
    "\n",
    "print(weights)"
   ]
  },
  {
   "cell_type": "code",
   "execution_count": 20,
   "id": "330b0446",
   "metadata": {},
   "outputs": [
    {
     "data": {
      "text/plain": [
       "Array([0, 0, 1, 0, 4, 0, 5], dtype=int32)"
      ]
     },
     "execution_count": 20,
     "metadata": {},
     "output_type": "execute_result"
    }
   ],
   "source": [
    "x = jnp.array([-1,0,1,-2,4,-6,5])\n",
    "\n",
    "Relu(x)\n",
    "Relu_jit(x)"
   ]
  },
  {
   "cell_type": "code",
   "execution_count": 21,
   "id": "646e5e6a",
   "metadata": {},
   "outputs": [
    {
     "data": {
      "text/plain": [
       "'\\n@jit\\ndef Relu(x):\\n    return jnp.maximum(x, jnp.zeros_like(x)) # max(0,x)\\n'"
      ]
     },
     "execution_count": 21,
     "metadata": {},
     "output_type": "execute_result"
    }
   ],
   "source": [
    "'''\n",
    "@jit\n",
    "def Relu(x):\n",
    "    return jnp.maximum(x, jnp.zeros_like(x)) # max(0,x)\n",
    "'''"
   ]
  },
  {
   "cell_type": "code",
   "execution_count": 22,
   "id": "9f6fb4ed",
   "metadata": {},
   "outputs": [
    {
     "name": "stdout",
     "output_type": "stream",
     "text": [
      "2.154145\n",
      "527.93066\n"
     ]
    }
   ],
   "source": [
    "def ForwardPass(weights, input_datapoint):\n",
    "    layer_out = input_datapoint\n",
    "\n",
    "    for i in range(len(weights[:-1])):\n",
    "        #print(weights[i])\n",
    "        #print(layer_out)\n",
    "        layer_out = LinearLayer(weights[i], layer_out, Relu_jit)\n",
    "\n",
    "    preds = LinearLayer(weights[-1], layer_out)\n",
    "\n",
    "    return preds.squeeze()\n",
    "\n",
    "preds = ForwardPass(weights, X_train[1])\n",
    "\n",
    "print(X_train[1])\n",
    "print(preds)\n",
    "#preds.shape"
   ]
  },
  {
   "cell_type": "code",
   "execution_count": 23,
   "id": "11f99eab",
   "metadata": {},
   "outputs": [
    {
     "name": "stdout",
     "output_type": "stream",
     "text": [
      "800\n",
      "800\n"
     ]
    }
   ],
   "source": [
    "#'''\n",
    "def BatchForwardPass(weights, input_data):\n",
    "    #apply forward pass to each data point\n",
    "    predictions = [ForwardPass(weights,input_data[i]) for i in range(len(input_data))]\n",
    "    preds = jnp.array(predictions)\n",
    "    return preds.squeeze()\n",
    "#'''\n",
    "print(len(BatchForwardPass(weights,X_train)))\n",
    "print(len(X_train))"
   ]
  },
  {
   "cell_type": "code",
   "execution_count": 24,
   "id": "0facd123",
   "metadata": {},
   "outputs": [
    {
     "name": "stdout",
     "output_type": "stream",
     "text": [
      "[[Array([ 0.6423273 ,  0.39472246, -0.42661452, ...,  0.68257403,\n",
      "        0.09241819, -0.08388805], dtype=float32), Array([ 0.6423273 ,  0.39472246, -0.42661452, ...,  0.68257403,\n",
      "        0.09241819, -0.08388805], dtype=float32)], [Array([[ 0.36326313,  0.67431045, -0.34833646, ..., -0.22690678,\n",
      "         0.78762126,  0.40378356],\n",
      "       [ 0.01716638,  0.8024769 , -0.50727034, ..., -0.8463812 ,\n",
      "         0.6829629 ,  0.5702553 ],\n",
      "       [ 0.9183562 , -0.54055095, -0.84586954, ..., -0.93066454,\n",
      "         0.00561404,  0.10867071],\n",
      "       ...,\n",
      "       [-0.9970796 , -0.9228153 , -0.3602624 , ...,  0.88771844,\n",
      "        -0.63122797, -0.5530937 ],\n",
      "       [-0.33314276, -0.76246595, -0.55924153, ...,  0.24797583,\n",
      "         0.73389363,  0.02865171],\n",
      "       [-0.1650505 ,  0.7162664 , -0.23983073, ...,  0.90228057,\n",
      "         0.87591887,  0.83819175]], dtype=float32), Array([ 0.6423273 ,  0.39472246, -0.42661452, ...,  0.68257403,\n",
      "        0.09241819, -0.08388805], dtype=float32)], [Array([[ 0.6423273 ,  0.39472246, -0.42661452, ...,  0.68257403,\n",
      "         0.09241819, -0.08388805]], dtype=float32), Array([-0.54859734], dtype=float32)]]\n"
     ]
    }
   ],
   "source": [
    "def MeanSquaredErrorLoss(weights, input_data, actual):\n",
    "    preds = BatchForwardPass(weights, input_data)\n",
    "    return jnp.power(actual - preds, 2).mean()\n",
    "\n",
    "MeanSquaredErrorLoss(weights, X_train, Y_train)\n",
    "\n",
    "print(weights)"
   ]
  },
  {
   "cell_type": "code",
   "execution_count": 25,
   "id": "5ea48734",
   "metadata": {},
   "outputs": [],
   "source": [
    "from jax import grad, value_and_grad\n",
    "\n",
    "def CalculateGradients(weights, input_data, actual):\n",
    "    Grad_MSELoss = grad(MeanSquaredErrorLoss)\n",
    "    gradients = Grad_MSELoss(weights, input_data, actual)\n",
    "    return gradients\n",
    "\n",
    "gradients = CalculateGradients(weights, X_train, Y_train)"
   ]
  },
  {
   "cell_type": "code",
   "execution_count": 26,
   "id": "f1cabdfc",
   "metadata": {},
   "outputs": [
    {
     "name": "stdout",
     "output_type": "stream",
     "text": [
      "[[Array([ 0.6423273 ,  0.39472246, -0.42661452, ...,  0.68257403,\n",
      "        0.09241819, -0.08388805], dtype=float32), Array([ 0.6423273 ,  0.39472246, -0.42661452, ...,  0.68257403,\n",
      "        0.09241819, -0.08388805], dtype=float32)], [Array([[ 0.36326313,  0.67431045, -0.34833646, ..., -0.22690678,\n",
      "         0.78762126,  0.40378356],\n",
      "       [ 0.01716638,  0.8024769 , -0.50727034, ..., -0.8463812 ,\n",
      "         0.6829629 ,  0.5702553 ],\n",
      "       [ 0.9183562 , -0.54055095, -0.84586954, ..., -0.93066454,\n",
      "         0.00561404,  0.10867071],\n",
      "       ...,\n",
      "       [-0.9970796 , -0.9228153 , -0.3602624 , ...,  0.88771844,\n",
      "        -0.63122797, -0.5530937 ],\n",
      "       [-0.33314276, -0.76246595, -0.55924153, ...,  0.24797583,\n",
      "         0.73389363,  0.02865171],\n",
      "       [-0.1650505 ,  0.7162664 , -0.23983073, ...,  0.90228057,\n",
      "         0.87591887,  0.83819175]], dtype=float32), Array([ 0.6423273 ,  0.39472246, -0.42661452, ...,  0.68257403,\n",
      "        0.09241819, -0.08388805], dtype=float32)], [Array([[ 0.6423273 ,  0.39472246, -0.42661452, ...,  0.68257403,\n",
      "         0.09241819, -0.08388805]], dtype=float32), Array([-0.54859734], dtype=float32)]]\n",
      "[[Array([ 1.5464869 ,  0.3962691 , -0.42661452, ...,  2.7505982 ,\n",
      "        2.5636942 , -0.08388805], dtype=float32), Array([ 1.1650674 ,  0.3825206 , -0.42661452, ...,  1.8388966 ,\n",
      "        1.5213861 , -0.08388805], dtype=float32)], [Array([[ 0.36326313,  0.67431045, -0.34833646, ..., -0.22690678,\n",
      "         0.78762126,  0.40378356],\n",
      "       [ 0.01716638,  0.8024769 , -0.50727034, ..., -0.8463812 ,\n",
      "         0.6829629 ,  0.5702553 ],\n",
      "       [ 0.9881719 , -0.49764788, -0.84586954, ..., -0.8564743 ,\n",
      "         0.01565915,  0.10867071],\n",
      "       ...,\n",
      "       [-1.1087832 , -0.99145937, -0.3602624 , ...,  0.7690158 ,\n",
      "        -0.6472999 , -0.5530937 ],\n",
      "       [-0.34826705, -0.7717601 , -0.55924153, ...,  0.23190388,\n",
      "         0.7317175 ,  0.02865171],\n",
      "       [-0.15132217,  0.7247027 , -0.23983073, ...,  0.9168691 ,\n",
      "         0.8778941 ,  0.83819175]], dtype=float32), Array([ 0.6423273 ,  0.39472246, -0.38720477, ...,  0.6195193 ,\n",
      "        0.0838808 , -0.07613865], dtype=float32)], [Array([[ 0.6423273 ,  0.39472246, -3.9425957 , ..., -1.758887  ,\n",
      "        -0.84029967, -0.51439095]], dtype=float32), Array([-0.64097524], dtype=float32)]]\n"
     ]
    }
   ],
   "source": [
    "learning_rate = jnp.array(1/1e4)\n",
    "\n",
    "def UpdateWeights(learning_rate, weights, gradients):\n",
    "    for j in range(len(weights)): ## Update Weights\n",
    "        weights[j][0] -= learning_rate * gradients[j][0] ## Update Weights\n",
    "        weights[j][1] -= learning_rate * gradients[j][1] ## Update Biases\n",
    "\n",
    "print(weights)\n",
    "#print(gradients)\n",
    "UpdateWeights(learning_rate, weights, gradients)\n",
    "print(weights)\n",
    "#print(gradients)"
   ]
  },
  {
   "cell_type": "code",
   "execution_count": 27,
   "id": "1f32011f",
   "metadata": {},
   "outputs": [
    {
     "name": "stdout",
     "output_type": "stream",
     "text": [
      "[[Array([ 1.5464869 ,  0.3962691 , -0.42661452, ...,  2.7505982 ,\n",
      "        2.5636942 , -0.08388805], dtype=float32), Array([ 1.1650674 ,  0.3825206 , -0.42661452, ...,  1.8388966 ,\n",
      "        1.5213861 , -0.08388805], dtype=float32)], [Array([[ 0.36326313,  0.67431045, -0.34833646, ..., -0.22690678,\n",
      "         0.78762126,  0.40378356],\n",
      "       [ 0.01716638,  0.8024769 , -0.50727034, ..., -0.8463812 ,\n",
      "         0.6829629 ,  0.5702553 ],\n",
      "       [ 0.9881719 , -0.49764788, -0.84586954, ..., -0.8564743 ,\n",
      "         0.01565915,  0.10867071],\n",
      "       ...,\n",
      "       [-1.1087832 , -0.99145937, -0.3602624 , ...,  0.7690158 ,\n",
      "        -0.6472999 , -0.5530937 ],\n",
      "       [-0.34826705, -0.7717601 , -0.55924153, ...,  0.23190388,\n",
      "         0.7317175 ,  0.02865171],\n",
      "       [-0.15132217,  0.7247027 , -0.23983073, ...,  0.9168691 ,\n",
      "         0.8778941 ,  0.83819175]], dtype=float32), Array([ 0.6423273 ,  0.39472246, -0.38720477, ...,  0.6195193 ,\n",
      "        0.0838808 , -0.07613865], dtype=float32)], [Array([[ 0.6423273 ,  0.39472246, -3.9425957 , ..., -1.758887  ,\n",
      "        -0.84029967, -0.51439095]], dtype=float32), Array([-0.64097524], dtype=float32)]]\n",
      "MSE : 3865554944.00\n",
      "MSE : nan\n"
     ]
    },
    {
     "ename": "KeyboardInterrupt",
     "evalue": "",
     "output_type": "error",
     "traceback": [
      "\u001b[0;31m---------------------------------------------------------------------------\u001b[0m",
      "\u001b[0;31mKeyboardInterrupt\u001b[0m                         Traceback (most recent call last)",
      "Cell \u001b[0;32mIn[27], line 20\u001b[0m\n\u001b[1;32m     16\u001b[0m \u001b[38;5;28mprint\u001b[39m(weights)\n\u001b[1;32m     18\u001b[0m start \u001b[38;5;241m=\u001b[39m time\u001b[38;5;241m.\u001b[39mtime()\n\u001b[0;32m---> 20\u001b[0m \u001b[43mTrainModel\u001b[49m\u001b[43m(\u001b[49m\u001b[43mweights\u001b[49m\u001b[43m,\u001b[49m\u001b[43m \u001b[49m\u001b[43mX_train\u001b[49m\u001b[43m,\u001b[49m\u001b[43mY_train\u001b[49m\u001b[43m,\u001b[49m\u001b[43m \u001b[49m\u001b[43mlearning_rate\u001b[49m\u001b[38;5;241;43m=\u001b[39;49m\u001b[38;5;241;43m1e-1\u001b[39;49m\u001b[43m,\u001b[49m\u001b[43m \u001b[49m\u001b[43mepochs\u001b[49m\u001b[38;5;241;43m=\u001b[39;49m\u001b[38;5;241;43m100\u001b[39;49m\u001b[43m)\u001b[49m\n\u001b[1;32m     22\u001b[0m end \u001b[38;5;241m=\u001b[39m time\u001b[38;5;241m.\u001b[39mtime()\n\u001b[1;32m     23\u001b[0m \u001b[38;5;28mprint\u001b[39m(weights)\n",
      "Cell \u001b[0;32mIn[27], line 5\u001b[0m, in \u001b[0;36mTrainModel\u001b[0;34m(weights, X, Y, learning_rate, epochs)\u001b[0m\n\u001b[1;32m      3\u001b[0m \u001b[38;5;28;01mdef\u001b[39;00m \u001b[38;5;21mTrainModel\u001b[39m(weights, X, Y, learning_rate, epochs):\n\u001b[1;32m      4\u001b[0m     \u001b[38;5;28;01mfor\u001b[39;00m i \u001b[38;5;129;01min\u001b[39;00m \u001b[38;5;28mrange\u001b[39m(epochs):\n\u001b[0;32m----> 5\u001b[0m         loss \u001b[38;5;241m=\u001b[39m \u001b[43mMeanSquaredErrorLoss\u001b[49m\u001b[43m(\u001b[49m\u001b[43mweights\u001b[49m\u001b[43m,\u001b[49m\u001b[43m \u001b[49m\u001b[43mX\u001b[49m\u001b[43m,\u001b[49m\u001b[43m \u001b[49m\u001b[43mY\u001b[49m\u001b[43m)\u001b[49m\n\u001b[1;32m      6\u001b[0m         gradients \u001b[38;5;241m=\u001b[39m CalculateGradients(weights, X, Y)\n\u001b[1;32m      8\u001b[0m         \u001b[38;5;66;03m## Update Weights\u001b[39;00m\n",
      "Cell \u001b[0;32mIn[24], line 2\u001b[0m, in \u001b[0;36mMeanSquaredErrorLoss\u001b[0;34m(weights, input_data, actual)\u001b[0m\n\u001b[1;32m      1\u001b[0m \u001b[38;5;28;01mdef\u001b[39;00m \u001b[38;5;21mMeanSquaredErrorLoss\u001b[39m(weights, input_data, actual):\n\u001b[0;32m----> 2\u001b[0m     preds \u001b[38;5;241m=\u001b[39m \u001b[43mBatchForwardPass\u001b[49m\u001b[43m(\u001b[49m\u001b[43mweights\u001b[49m\u001b[43m,\u001b[49m\u001b[43m \u001b[49m\u001b[43minput_data\u001b[49m\u001b[43m)\u001b[49m\n\u001b[1;32m      3\u001b[0m     \u001b[38;5;28;01mreturn\u001b[39;00m jnp\u001b[38;5;241m.\u001b[39mpower(actual \u001b[38;5;241m-\u001b[39m preds, \u001b[38;5;241m2\u001b[39m)\u001b[38;5;241m.\u001b[39mmean()\n",
      "Cell \u001b[0;32mIn[23], line 4\u001b[0m, in \u001b[0;36mBatchForwardPass\u001b[0;34m(weights, input_data)\u001b[0m\n\u001b[1;32m      2\u001b[0m \u001b[38;5;28;01mdef\u001b[39;00m \u001b[38;5;21mBatchForwardPass\u001b[39m(weights, input_data):\n\u001b[1;32m      3\u001b[0m     \u001b[38;5;66;03m#apply forward pass to each data point\u001b[39;00m\n\u001b[0;32m----> 4\u001b[0m     predictions \u001b[38;5;241m=\u001b[39m [ForwardPass(weights,input_data[i]) \u001b[38;5;28;01mfor\u001b[39;00m i \u001b[38;5;129;01min\u001b[39;00m \u001b[38;5;28mrange\u001b[39m(\u001b[38;5;28mlen\u001b[39m(input_data))]\n\u001b[1;32m      5\u001b[0m     preds \u001b[38;5;241m=\u001b[39m jnp\u001b[38;5;241m.\u001b[39marray(predictions)\n\u001b[1;32m      6\u001b[0m     \u001b[38;5;28;01mreturn\u001b[39;00m preds\u001b[38;5;241m.\u001b[39msqueeze()\n",
      "Cell \u001b[0;32mIn[23], line 4\u001b[0m, in \u001b[0;36m<listcomp>\u001b[0;34m(.0)\u001b[0m\n\u001b[1;32m      2\u001b[0m \u001b[38;5;28;01mdef\u001b[39;00m \u001b[38;5;21mBatchForwardPass\u001b[39m(weights, input_data):\n\u001b[1;32m      3\u001b[0m     \u001b[38;5;66;03m#apply forward pass to each data point\u001b[39;00m\n\u001b[0;32m----> 4\u001b[0m     predictions \u001b[38;5;241m=\u001b[39m [\u001b[43mForwardPass\u001b[49m\u001b[43m(\u001b[49m\u001b[43mweights\u001b[49m\u001b[43m,\u001b[49m\u001b[43minput_data\u001b[49m\u001b[43m[\u001b[49m\u001b[43mi\u001b[49m\u001b[43m]\u001b[49m\u001b[43m)\u001b[49m \u001b[38;5;28;01mfor\u001b[39;00m i \u001b[38;5;129;01min\u001b[39;00m \u001b[38;5;28mrange\u001b[39m(\u001b[38;5;28mlen\u001b[39m(input_data))]\n\u001b[1;32m      5\u001b[0m     preds \u001b[38;5;241m=\u001b[39m jnp\u001b[38;5;241m.\u001b[39marray(predictions)\n\u001b[1;32m      6\u001b[0m     \u001b[38;5;28;01mreturn\u001b[39;00m preds\u001b[38;5;241m.\u001b[39msqueeze()\n",
      "Cell \u001b[0;32mIn[22], line 7\u001b[0m, in \u001b[0;36mForwardPass\u001b[0;34m(weights, input_datapoint)\u001b[0m\n\u001b[1;32m      2\u001b[0m layer_out \u001b[38;5;241m=\u001b[39m input_datapoint\n\u001b[1;32m      4\u001b[0m \u001b[38;5;28;01mfor\u001b[39;00m i \u001b[38;5;129;01min\u001b[39;00m \u001b[38;5;28mrange\u001b[39m(\u001b[38;5;28mlen\u001b[39m(weights[:\u001b[38;5;241m-\u001b[39m\u001b[38;5;241m1\u001b[39m])):\n\u001b[1;32m      5\u001b[0m     \u001b[38;5;66;03m#print(weights[i])\u001b[39;00m\n\u001b[1;32m      6\u001b[0m     \u001b[38;5;66;03m#print(layer_out)\u001b[39;00m\n\u001b[0;32m----> 7\u001b[0m     layer_out \u001b[38;5;241m=\u001b[39m \u001b[43mLinearLayer\u001b[49m\u001b[43m(\u001b[49m\u001b[43mweights\u001b[49m\u001b[43m[\u001b[49m\u001b[43mi\u001b[49m\u001b[43m]\u001b[49m\u001b[43m,\u001b[49m\u001b[43m \u001b[49m\u001b[43mlayer_out\u001b[49m\u001b[43m,\u001b[49m\u001b[43m \u001b[49m\u001b[43mRelu_jit\u001b[49m\u001b[43m)\u001b[49m\n\u001b[1;32m      9\u001b[0m preds \u001b[38;5;241m=\u001b[39m LinearLayer(weights[\u001b[38;5;241m-\u001b[39m\u001b[38;5;241m1\u001b[39m], layer_out)\n\u001b[1;32m     11\u001b[0m \u001b[38;5;28;01mreturn\u001b[39;00m preds\u001b[38;5;241m.\u001b[39msqueeze()\n",
      "Cell \u001b[0;32mIn[19], line 5\u001b[0m, in \u001b[0;36mLinearLayer\u001b[0;34m(weights, input_data, activation)\u001b[0m\n\u001b[1;32m      2\u001b[0m w, b \u001b[38;5;241m=\u001b[39m weights\n\u001b[1;32m      3\u001b[0m \u001b[38;5;66;03m#print(weights)\u001b[39;00m\n\u001b[1;32m      4\u001b[0m \u001b[38;5;66;03m#print(input_data)\u001b[39;00m\n\u001b[0;32m----> 5\u001b[0m out \u001b[38;5;241m=\u001b[39m \u001b[43mjnp\u001b[49m\u001b[38;5;241;43m.\u001b[39;49m\u001b[43mdot\u001b[49m\u001b[43m(\u001b[49m\u001b[43minput_data\u001b[49m\u001b[43m,\u001b[49m\u001b[43m \u001b[49m\u001b[43mw\u001b[49m\u001b[38;5;241;43m.\u001b[39;49m\u001b[43mT\u001b[49m\u001b[43m)\u001b[49m \u001b[38;5;241m+\u001b[39m b\n\u001b[1;32m      6\u001b[0m \u001b[38;5;28;01mreturn\u001b[39;00m activation(out)\n",
      "\u001b[0;31mKeyboardInterrupt\u001b[0m: "
     ]
    }
   ],
   "source": [
    "import time\n",
    "\n",
    "def TrainModel(weights, X, Y, learning_rate, epochs):\n",
    "    for i in range(epochs):\n",
    "        loss = MeanSquaredErrorLoss(weights, X, Y)\n",
    "        gradients = CalculateGradients(weights, X, Y)\n",
    "\n",
    "        ## Update Weights\n",
    "        for j in range(len(weights)):\n",
    "            weights[j][0] -= learning_rate * gradients[j][0] ## Update Weights\n",
    "            weights[j][1] -= learning_rate * gradients[j][1] ## Update Biases\n",
    "\n",
    "        if i%10 ==0: ## Print MSE every 100 epochs\n",
    "            print(\"MSE : {:.2f}\".format(loss))\n",
    "\n",
    "print(weights)\n",
    "\n",
    "start = time.time()\n",
    "\n",
    "TrainModel(weights, X_train,Y_train, learning_rate=1e-1, epochs=50)\n",
    "\n",
    "end = time.time()\n",
    "print(weights)\n",
    "\n",
    "print(f'Total time: {end-start}')"
   ]
  },
  {
   "cell_type": "code",
   "execution_count": 18,
   "id": "03a5cf06",
   "metadata": {},
   "outputs": [
    {
     "data": {
      "text/plain": [
       "[<matplotlib.lines.Line2D at 0x7f9513324910>]"
      ]
     },
     "execution_count": 18,
     "metadata": {},
     "output_type": "execute_result"
    },
    {
     "data": {
      "image/png": "[encoded data removed]",
      "text/plain": [
       "<Figure size 640x480 with 1 Axes>"
      ]
     },
     "metadata": {},
     "output_type": "display_data"
    }
   ],
   "source": [
    "import matplotlib.pyplot as plt\n",
    "\n",
    "plt.plot(X_train,Y_train,'bo')\n",
    "plt.plot(X_train,BatchForwardPass(weights,X_train),'ro')"
   ]
  },
  {
   "cell_type": "code",
   "execution_count": 80,
   "id": "3c0b5611",
   "metadata": {},
   "outputs": [
    {
     "name": "stdout",
     "output_type": "stream",
     "text": [
      "MSE : nan\n",
      "MSE : nan\n"
     ]
    },
    {
     "ename": "KeyboardInterrupt",
     "evalue": "",
     "output_type": "error",
     "traceback": [
      "\u001b[0;31m---------------------------------------------------------------------------\u001b[0m",
      "\u001b[0;31mKeyboardInterrupt\u001b[0m                         Traceback (most recent call last)",
      "Cell \u001b[0;32mIn[80], line 8\u001b[0m\n\u001b[1;32m      4\u001b[0m layer_sizes \u001b[38;5;241m=\u001b[39m [\u001b[38;5;241m10\u001b[39m,\u001b[38;5;241m10\u001b[39m,\u001b[38;5;241m1\u001b[39m]\n\u001b[1;32m      6\u001b[0m weights \u001b[38;5;241m=\u001b[39m InitializeWeights(layer_sizes, seed)\n\u001b[0;32m----> 8\u001b[0m \u001b[43mTrainModelInBatches\u001b[49m\u001b[43m(\u001b[49m\u001b[43mweights\u001b[49m\u001b[43m,\u001b[49m\u001b[43m \u001b[49m\u001b[43mX_train\u001b[49m\u001b[43m,\u001b[49m\u001b[43m \u001b[49m\u001b[43mY_train\u001b[49m\u001b[43m,\u001b[49m\u001b[43m \u001b[49m\u001b[43mlearning_rate\u001b[49m\u001b[43m,\u001b[49m\u001b[43m \u001b[49m\u001b[43mepochs\u001b[49m\u001b[43m,\u001b[49m\u001b[43m \u001b[49m\u001b[43mbatch_size\u001b[49m\u001b[38;5;241;43m=\u001b[39;49m\u001b[38;5;241;43m32\u001b[39;49m\u001b[43m)\u001b[49m\n\u001b[1;32m     10\u001b[0m \u001b[38;5;28;01mdef\u001b[39;00m \u001b[38;5;21mMakePredictions\u001b[39m(weights, input_data, batch_size\u001b[38;5;241m=\u001b[39m\u001b[38;5;241m32\u001b[39m):\n\u001b[1;32m     11\u001b[0m     batches \u001b[38;5;241m=\u001b[39m jnp\u001b[38;5;241m.\u001b[39marange((input_data\u001b[38;5;241m.\u001b[39mshape[\u001b[38;5;241m0\u001b[39m]\u001b[38;5;241m/\u001b[39m\u001b[38;5;241m/\u001b[39mbatch_size)\u001b[38;5;241m+\u001b[39m\u001b[38;5;241m1\u001b[39m) \u001b[38;5;66;03m### Batch Indices\u001b[39;00m\n",
      "Cell \u001b[0;32mIn[79], line 40\u001b[0m, in \u001b[0;36mTrainModelInBatches\u001b[0;34m(weights, X, Y, learning_rate, epochs, batch_size)\u001b[0m\n\u001b[1;32m     37\u001b[0m X_batch, Y_batch \u001b[38;5;241m=\u001b[39m X[start:end], Y[start:end] \u001b[38;5;66;03m## Single batch of data\u001b[39;00m\n\u001b[1;32m     39\u001b[0m loss \u001b[38;5;241m=\u001b[39m MeanSquaredErrorLoss(weights, X_batch, Y_batch) \u001b[38;5;66;03m## Loss of batch\u001b[39;00m\n\u001b[0;32m---> 40\u001b[0m gradients \u001b[38;5;241m=\u001b[39m \u001b[43mCalculateGradients\u001b[49m\u001b[43m(\u001b[49m\u001b[43mweights\u001b[49m\u001b[43m,\u001b[49m\u001b[43m \u001b[49m\u001b[43mX_batch\u001b[49m\u001b[43m,\u001b[49m\u001b[43m \u001b[49m\u001b[43mY_batch\u001b[49m\u001b[43m)\u001b[49m\n\u001b[1;32m     41\u001b[0m losses\u001b[38;5;241m.\u001b[39mappend(loss) \u001b[38;5;66;03m## Record Loss\u001b[39;00m\n\u001b[1;32m     43\u001b[0m UpdateWeights(learning_rate, weights, gradients) \u001b[38;5;66;03m## Update Weights\u001b[39;00m\n",
      "Cell \u001b[0;32mIn[79], line 5\u001b[0m, in \u001b[0;36mCalculateGradients\u001b[0;34m(weights, input_data, actual)\u001b[0m\n\u001b[1;32m      3\u001b[0m \u001b[38;5;28;01mdef\u001b[39;00m \u001b[38;5;21mCalculateGradients\u001b[39m(weights, input_data, actual):\n\u001b[1;32m      4\u001b[0m     Grad_MSELoss \u001b[38;5;241m=\u001b[39m grad(MeanSquaredErrorLoss)\n\u001b[0;32m----> 5\u001b[0m     gradients \u001b[38;5;241m=\u001b[39m \u001b[43mGrad_MSELoss\u001b[49m\u001b[43m(\u001b[49m\u001b[43mweights\u001b[49m\u001b[43m,\u001b[49m\u001b[43m \u001b[49m\u001b[43minput_data\u001b[49m\u001b[43m,\u001b[49m\u001b[43m \u001b[49m\u001b[43mactual\u001b[49m\u001b[43m)\u001b[49m\n\u001b[1;32m      6\u001b[0m     \u001b[38;5;28;01mreturn\u001b[39;00m gradients\n",
      "    \u001b[0;31m[... skipping hidden 1 frame]\u001b[0m\n",
      "File \u001b[0;32m~/miniconda3/lib/python3.10/site-packages/jax/_src/api.py:1179\u001b[0m, in \u001b[0;36mgrad.<locals>.grad_f\u001b[0;34m(*args, **kwargs)\u001b[0m\n\u001b[1;32m   1176\u001b[0m \u001b[38;5;129m@wraps\u001b[39m(fun, docstr\u001b[38;5;241m=\u001b[39mdocstr, argnums\u001b[38;5;241m=\u001b[39margnums)\n\u001b[1;32m   1177\u001b[0m \u001b[38;5;129m@api_boundary\u001b[39m\n\u001b[1;32m   1178\u001b[0m \u001b[38;5;28;01mdef\u001b[39;00m \u001b[38;5;21mgrad_f\u001b[39m(\u001b[38;5;241m*\u001b[39margs, \u001b[38;5;241m*\u001b[39m\u001b[38;5;241m*\u001b[39mkwargs):\n\u001b[0;32m-> 1179\u001b[0m   _, g \u001b[38;5;241m=\u001b[39m \u001b[43mvalue_and_grad_f\u001b[49m\u001b[43m(\u001b[49m\u001b[38;5;241;43m*\u001b[39;49m\u001b[43margs\u001b[49m\u001b[43m,\u001b[49m\u001b[43m \u001b[49m\u001b[38;5;241;43m*\u001b[39;49m\u001b[38;5;241;43m*\u001b[39;49m\u001b[43mkwargs\u001b[49m\u001b[43m)\u001b[49m\n\u001b[1;32m   1180\u001b[0m   \u001b[38;5;28;01mreturn\u001b[39;00m g\n",
      "    \u001b[0;31m[... skipping hidden 1 frame]\u001b[0m\n",
      "File \u001b[0;32m~/miniconda3/lib/python3.10/site-packages/jax/_src/api.py:1261\u001b[0m, in \u001b[0;36mvalue_and_grad.<locals>.value_and_grad_f\u001b[0;34m(*args, **kwargs)\u001b[0m\n\u001b[1;32m   1259\u001b[0m _check_scalar(ans)\n\u001b[1;32m   1260\u001b[0m tree_map(partial(_check_output_dtype_grad, holomorphic), ans)\n\u001b[0;32m-> 1261\u001b[0m g \u001b[38;5;241m=\u001b[39m \u001b[43mvjp_py\u001b[49m\u001b[43m(\u001b[49m\u001b[43mlax_internal\u001b[49m\u001b[38;5;241;43m.\u001b[39;49m\u001b[43m_one\u001b[49m\u001b[43m(\u001b[49m\u001b[43mans\u001b[49m\u001b[43m)\u001b[49m\u001b[43m)\u001b[49m\n\u001b[1;32m   1262\u001b[0m g \u001b[38;5;241m=\u001b[39m g[\u001b[38;5;241m0\u001b[39m] \u001b[38;5;28;01mif\u001b[39;00m \u001b[38;5;28misinstance\u001b[39m(argnums, \u001b[38;5;28mint\u001b[39m) \u001b[38;5;28;01melse\u001b[39;00m g\n\u001b[1;32m   1263\u001b[0m \u001b[38;5;28;01mif\u001b[39;00m \u001b[38;5;129;01mnot\u001b[39;00m has_aux:\n",
      "File \u001b[0;32m~/miniconda3/lib/python3.10/site-packages/jax/_src/tree_util.py:302\u001b[0m, in \u001b[0;36m_HashableCallableShim.__call__\u001b[0;34m(self, *args, **kw)\u001b[0m\n\u001b[1;32m    301\u001b[0m \u001b[38;5;28;01mdef\u001b[39;00m \u001b[38;5;21m__call__\u001b[39m(\u001b[38;5;28mself\u001b[39m, \u001b[38;5;241m*\u001b[39margs, \u001b[38;5;241m*\u001b[39m\u001b[38;5;241m*\u001b[39mkw):\n\u001b[0;32m--> 302\u001b[0m   \u001b[38;5;28;01mreturn\u001b[39;00m \u001b[38;5;28;43mself\u001b[39;49m\u001b[38;5;241;43m.\u001b[39;49m\u001b[43mfun\u001b[49m\u001b[43m(\u001b[49m\u001b[38;5;241;43m*\u001b[39;49m\u001b[43margs\u001b[49m\u001b[43m,\u001b[49m\u001b[43m \u001b[49m\u001b[38;5;241;43m*\u001b[39;49m\u001b[38;5;241;43m*\u001b[39;49m\u001b[43mkw\u001b[49m\u001b[43m)\u001b[49m\n",
      "File \u001b[0;32m~/miniconda3/lib/python3.10/site-packages/jax/_src/api.py:2729\u001b[0m, in \u001b[0;36m_vjp_pullback_wrapper\u001b[0;34m(name, cotangent_dtypes, cotangent_shapes, io_tree, fun, *py_args_)\u001b[0m\n\u001b[1;32m   2724\u001b[0m   \u001b[38;5;28;01mif\u001b[39;00m np\u001b[38;5;241m.\u001b[39mshape(arg) \u001b[38;5;241m!=\u001b[39m ct_shape:\n\u001b[1;32m   2725\u001b[0m     \u001b[38;5;28;01mraise\u001b[39;00m \u001b[38;5;167;01mValueError\u001b[39;00m(\n\u001b[1;32m   2726\u001b[0m         \u001b[38;5;124mf\u001b[39m\u001b[38;5;124m\"\u001b[39m\u001b[38;5;124mShape of cotangent input to vjp pullback function \u001b[39m\u001b[38;5;132;01m{\u001b[39;00mnp\u001b[38;5;241m.\u001b[39mshape(arg)\u001b[38;5;132;01m}\u001b[39;00m\u001b[38;5;124m \u001b[39m\u001b[38;5;124m\"\u001b[39m\n\u001b[1;32m   2727\u001b[0m         \u001b[38;5;124m\"\u001b[39m\u001b[38;5;124mmust be the same as the shape of corresponding primal input \u001b[39m\u001b[38;5;124m\"\u001b[39m\n\u001b[1;32m   2728\u001b[0m         \u001b[38;5;124mf\u001b[39m\u001b[38;5;124m\"\u001b[39m\u001b[38;5;132;01m{\u001b[39;00mct_shape\u001b[38;5;132;01m}\u001b[39;00m\u001b[38;5;124m.\u001b[39m\u001b[38;5;124m\"\u001b[39m)\n\u001b[0;32m-> 2729\u001b[0m ans \u001b[38;5;241m=\u001b[39m \u001b[43mfun\u001b[49m\u001b[43m(\u001b[49m\u001b[38;5;241;43m*\u001b[39;49m\u001b[43margs\u001b[49m\u001b[43m)\u001b[49m\n\u001b[1;32m   2730\u001b[0m \u001b[38;5;28;01mreturn\u001b[39;00m tree_unflatten(out_tree, ans)\n",
      "File \u001b[0;32m~/miniconda3/lib/python3.10/site-packages/jax/_src/tree_util.py:302\u001b[0m, in \u001b[0;36m_HashableCallableShim.__call__\u001b[0;34m(self, *args, **kw)\u001b[0m\n\u001b[1;32m    301\u001b[0m \u001b[38;5;28;01mdef\u001b[39;00m \u001b[38;5;21m__call__\u001b[39m(\u001b[38;5;28mself\u001b[39m, \u001b[38;5;241m*\u001b[39margs, \u001b[38;5;241m*\u001b[39m\u001b[38;5;241m*\u001b[39mkw):\n\u001b[0;32m--> 302\u001b[0m   \u001b[38;5;28;01mreturn\u001b[39;00m \u001b[38;5;28;43mself\u001b[39;49m\u001b[38;5;241;43m.\u001b[39;49m\u001b[43mfun\u001b[49m\u001b[43m(\u001b[49m\u001b[38;5;241;43m*\u001b[39;49m\u001b[43margs\u001b[49m\u001b[43m,\u001b[49m\u001b[43m \u001b[49m\u001b[38;5;241;43m*\u001b[39;49m\u001b[38;5;241;43m*\u001b[39;49m\u001b[43mkw\u001b[49m\u001b[43m)\u001b[49m\n",
      "File \u001b[0;32m~/miniconda3/lib/python3.10/site-packages/jax/_src/interpreters/ad.py:146\u001b[0m, in \u001b[0;36mvjp.<locals>.unbound_vjp\u001b[0;34m(pvals, jaxpr, consts, *cts)\u001b[0m\n\u001b[1;32m    144\u001b[0m cts \u001b[38;5;241m=\u001b[39m \u001b[38;5;28mtuple\u001b[39m(ct \u001b[38;5;28;01mfor\u001b[39;00m ct, pval \u001b[38;5;129;01min\u001b[39;00m \u001b[38;5;28mzip\u001b[39m(cts, pvals) \u001b[38;5;28;01mif\u001b[39;00m \u001b[38;5;129;01mnot\u001b[39;00m pval\u001b[38;5;241m.\u001b[39mis_known())\n\u001b[1;32m    145\u001b[0m dummy_args \u001b[38;5;241m=\u001b[39m [UndefinedPrimal(v\u001b[38;5;241m.\u001b[39maval) \u001b[38;5;28;01mfor\u001b[39;00m v \u001b[38;5;129;01min\u001b[39;00m jaxpr\u001b[38;5;241m.\u001b[39minvars]\n\u001b[0;32m--> 146\u001b[0m arg_cts \u001b[38;5;241m=\u001b[39m \u001b[43mbackward_pass\u001b[49m\u001b[43m(\u001b[49m\u001b[43mjaxpr\u001b[49m\u001b[43m,\u001b[49m\u001b[43m \u001b[49m\u001b[43mreduce_axes\u001b[49m\u001b[43m,\u001b[49m\u001b[43m \u001b[49m\u001b[38;5;28;43;01mTrue\u001b[39;49;00m\u001b[43m,\u001b[49m\u001b[43m \u001b[49m\u001b[43mconsts\u001b[49m\u001b[43m,\u001b[49m\u001b[43m \u001b[49m\u001b[43mdummy_args\u001b[49m\u001b[43m,\u001b[49m\u001b[43m \u001b[49m\u001b[43mcts\u001b[49m\u001b[43m)\u001b[49m\n\u001b[1;32m    147\u001b[0m \u001b[38;5;28;01mreturn\u001b[39;00m \u001b[38;5;28mmap\u001b[39m(instantiate_zeros, arg_cts)\n",
      "File \u001b[0;32m~/miniconda3/lib/python3.10/site-packages/jax/_src/interpreters/ad.py:250\u001b[0m, in \u001b[0;36mbackward_pass\u001b[0;34m(jaxpr, reduce_axes, transform_stack, consts, primals_in, cotangents_in)\u001b[0m\n\u001b[1;32m    247\u001b[0m   cts_out \u001b[38;5;241m=\u001b[39m get_primitive_transpose(eqn\u001b[38;5;241m.\u001b[39mprimitive)(\n\u001b[1;32m    248\u001b[0m       params, call_jaxpr, invals, cts_in, cts_in_avals, reduce_axes)\n\u001b[1;32m    249\u001b[0m \u001b[38;5;28;01melif\u001b[39;00m eqn\u001b[38;5;241m.\u001b[39mprimitive \u001b[38;5;129;01min\u001b[39;00m reducing_transposes:\n\u001b[0;32m--> 250\u001b[0m   cts_out \u001b[38;5;241m=\u001b[39m \u001b[43mreducing_transposes\u001b[49m\u001b[43m[\u001b[49m\u001b[43meqn\u001b[49m\u001b[38;5;241;43m.\u001b[39;49m\u001b[43mprimitive\u001b[49m\u001b[43m]\u001b[49m\u001b[43m(\u001b[49m\n\u001b[1;32m    251\u001b[0m \u001b[43m      \u001b[49m\u001b[43mreduce_axes\u001b[49m\u001b[43m,\u001b[49m\u001b[43m \u001b[49m\u001b[43mcts_in\u001b[49m\u001b[43m,\u001b[49m\u001b[43m \u001b[49m\u001b[38;5;241;43m*\u001b[39;49m\u001b[43minvals\u001b[49m\u001b[43m,\u001b[49m\u001b[43m \u001b[49m\u001b[38;5;241;43m*\u001b[39;49m\u001b[38;5;241;43m*\u001b[39;49m\u001b[43meqn\u001b[49m\u001b[38;5;241;43m.\u001b[39;49m\u001b[43mparams\u001b[49m\u001b[43m)\u001b[49m\n\u001b[1;32m    252\u001b[0m \u001b[38;5;28;01melse\u001b[39;00m:\n\u001b[1;32m    253\u001b[0m   cts_out \u001b[38;5;241m=\u001b[39m get_primitive_transpose(eqn\u001b[38;5;241m.\u001b[39mprimitive)(\n\u001b[1;32m    254\u001b[0m       cts_in, \u001b[38;5;241m*\u001b[39minvals, \u001b[38;5;241m*\u001b[39m\u001b[38;5;241m*\u001b[39meqn\u001b[38;5;241m.\u001b[39mparams)\n",
      "File \u001b[0;32m~/miniconda3/lib/python3.10/site-packages/jax/_src/pjit.py:1853\u001b[0m, in \u001b[0;36m_pjit_transpose\u001b[0;34m(reduce_axes, cts_in, jaxpr, in_shardings, out_shardings, resource_env, donated_invars, name, in_positional_semantics, out_positional_semantics, keep_unused, inline, *primals_in)\u001b[0m\n\u001b[1;32m   1847\u001b[0m cts_out_treedef \u001b[38;5;241m=\u001b[39m cts_out_treedef_thunk()\n\u001b[1;32m   1848\u001b[0m transpose_out_shardings \u001b[38;5;241m=\u001b[39m prune_type(\n\u001b[1;32m   1849\u001b[0m     ad\u001b[38;5;241m.\u001b[39mZero,\n\u001b[1;32m   1850\u001b[0m     in_shardings,\n\u001b[1;32m   1851\u001b[0m     tree_unflatten(cts_out_treedef, [\u001b[38;5;28mobject\u001b[39m()] \u001b[38;5;241m*\u001b[39m cts_out_treedef\u001b[38;5;241m.\u001b[39mnum_leaves))\n\u001b[0;32m-> 1853\u001b[0m nz_cts_out \u001b[38;5;241m=\u001b[39m \u001b[43mpjit_p\u001b[49m\u001b[38;5;241;43m.\u001b[39;49m\u001b[43mbind\u001b[49m\u001b[43m(\u001b[49m\n\u001b[1;32m   1854\u001b[0m \u001b[43m    \u001b[49m\u001b[38;5;241;43m*\u001b[39;49m\u001b[43mprimals_and_nz_cts_in\u001b[49m\u001b[43m,\u001b[49m\n\u001b[1;32m   1855\u001b[0m \u001b[43m    \u001b[49m\u001b[43mjaxpr\u001b[49m\u001b[38;5;241;43m=\u001b[39;49m\u001b[43mtranspose_jaxpr\u001b[49m\u001b[43m,\u001b[49m\n\u001b[1;32m   1856\u001b[0m \u001b[43m    \u001b[49m\u001b[43min_shardings\u001b[49m\u001b[38;5;241;43m=\u001b[39;49m\u001b[43mtranspose_in_shardings\u001b[49m\u001b[43m,\u001b[49m\n\u001b[1;32m   1857\u001b[0m \u001b[43m    \u001b[49m\u001b[43mout_shardings\u001b[49m\u001b[38;5;241;43m=\u001b[39;49m\u001b[43mtranspose_out_shardings\u001b[49m\u001b[43m,\u001b[49m\n\u001b[1;32m   1858\u001b[0m \u001b[43m    \u001b[49m\u001b[43mresource_env\u001b[49m\u001b[38;5;241;43m=\u001b[39;49m\u001b[43mresource_env\u001b[49m\u001b[43m,\u001b[49m\n\u001b[1;32m   1859\u001b[0m \u001b[43m    \u001b[49m\u001b[43mdonated_invars\u001b[49m\u001b[38;5;241;43m=\u001b[39;49m\u001b[43m(\u001b[49m\u001b[38;5;28;43;01mFalse\u001b[39;49;00m\u001b[43m,\u001b[49m\u001b[43m)\u001b[49m\u001b[43m \u001b[49m\u001b[38;5;241;43m*\u001b[39;49m\u001b[43m \u001b[49m\u001b[38;5;28;43mlen\u001b[39;49m\u001b[43m(\u001b[49m\u001b[43mprimals_and_nz_cts_in\u001b[49m\u001b[43m)\u001b[49m\u001b[43m,\u001b[49m\n\u001b[1;32m   1860\u001b[0m \u001b[43m    \u001b[49m\u001b[43mname\u001b[49m\u001b[38;5;241;43m=\u001b[39;49m\u001b[43mname\u001b[49m\u001b[43m,\u001b[49m\n\u001b[1;32m   1861\u001b[0m \u001b[43m    \u001b[49m\u001b[43min_positional_semantics\u001b[49m\u001b[38;5;241;43m=\u001b[39;49m\u001b[43mtranspose_in_positional_semantics\u001b[49m\u001b[43m,\u001b[49m\n\u001b[1;32m   1862\u001b[0m \u001b[43m    \u001b[49m\u001b[43mout_positional_semantics\u001b[49m\u001b[38;5;241;43m=\u001b[39;49m\u001b[43mout_positional_semantics\u001b[49m\u001b[43m,\u001b[49m\n\u001b[1;32m   1863\u001b[0m \u001b[43m    \u001b[49m\u001b[43mkeep_unused\u001b[49m\u001b[38;5;241;43m=\u001b[39;49m\u001b[43mkeep_unused\u001b[49m\u001b[43m,\u001b[49m\n\u001b[1;32m   1864\u001b[0m \u001b[43m    \u001b[49m\u001b[43minline\u001b[49m\u001b[38;5;241;43m=\u001b[39;49m\u001b[43minline\u001b[49m\u001b[43m)\u001b[49m\n\u001b[1;32m   1865\u001b[0m \u001b[38;5;28;01mreturn\u001b[39;00m tree_unflatten(cts_out_treedef, nz_cts_out)\n",
      "File \u001b[0;32m~/miniconda3/lib/python3.10/site-packages/jax/_src/core.py:2577\u001b[0m, in \u001b[0;36mAxisPrimitive.bind\u001b[0;34m(self, *args, **params)\u001b[0m\n\u001b[1;32m   2573\u001b[0m axis_main \u001b[38;5;241m=\u001b[39m \u001b[38;5;28mmax\u001b[39m((axis_frame(a)\u001b[38;5;241m.\u001b[39mmain_trace \u001b[38;5;28;01mfor\u001b[39;00m a \u001b[38;5;129;01min\u001b[39;00m used_axis_names(\u001b[38;5;28mself\u001b[39m, params)),\n\u001b[1;32m   2574\u001b[0m                 default\u001b[38;5;241m=\u001b[39m\u001b[38;5;28;01mNone\u001b[39;00m, key\u001b[38;5;241m=\u001b[39m\u001b[38;5;28;01mlambda\u001b[39;00m t: \u001b[38;5;28mgetattr\u001b[39m(t, \u001b[38;5;124m'\u001b[39m\u001b[38;5;124mlevel\u001b[39m\u001b[38;5;124m'\u001b[39m, \u001b[38;5;241m-\u001b[39m\u001b[38;5;241m1\u001b[39m))\n\u001b[1;32m   2575\u001b[0m top_trace \u001b[38;5;241m=\u001b[39m (top_trace \u001b[38;5;28;01mif\u001b[39;00m \u001b[38;5;129;01mnot\u001b[39;00m axis_main \u001b[38;5;129;01mor\u001b[39;00m axis_main\u001b[38;5;241m.\u001b[39mlevel \u001b[38;5;241m<\u001b[39m top_trace\u001b[38;5;241m.\u001b[39mlevel\n\u001b[1;32m   2576\u001b[0m              \u001b[38;5;28;01melse\u001b[39;00m axis_main\u001b[38;5;241m.\u001b[39mwith_cur_sublevel())\n\u001b[0;32m-> 2577\u001b[0m \u001b[38;5;28;01mreturn\u001b[39;00m \u001b[38;5;28;43mself\u001b[39;49m\u001b[38;5;241;43m.\u001b[39;49m\u001b[43mbind_with_trace\u001b[49m\u001b[43m(\u001b[49m\u001b[43mtop_trace\u001b[49m\u001b[43m,\u001b[49m\u001b[43m \u001b[49m\u001b[43margs\u001b[49m\u001b[43m,\u001b[49m\u001b[43m \u001b[49m\u001b[43mparams\u001b[49m\u001b[43m)\u001b[49m\n",
      "File \u001b[0;32m~/miniconda3/lib/python3.10/site-packages/jax/_src/core.py:363\u001b[0m, in \u001b[0;36mPrimitive.bind_with_trace\u001b[0;34m(self, trace, args, params)\u001b[0m\n\u001b[1;32m    362\u001b[0m \u001b[38;5;28;01mdef\u001b[39;00m \u001b[38;5;21mbind_with_trace\u001b[39m(\u001b[38;5;28mself\u001b[39m, trace, args, params):\n\u001b[0;32m--> 363\u001b[0m   out \u001b[38;5;241m=\u001b[39m \u001b[43mtrace\u001b[49m\u001b[38;5;241;43m.\u001b[39;49m\u001b[43mprocess_primitive\u001b[49m\u001b[43m(\u001b[49m\u001b[38;5;28;43mself\u001b[39;49m\u001b[43m,\u001b[49m\u001b[43m \u001b[49m\u001b[38;5;28;43mmap\u001b[39;49m\u001b[43m(\u001b[49m\u001b[43mtrace\u001b[49m\u001b[38;5;241;43m.\u001b[39;49m\u001b[43mfull_raise\u001b[49m\u001b[43m,\u001b[49m\u001b[43m \u001b[49m\u001b[43margs\u001b[49m\u001b[43m)\u001b[49m\u001b[43m,\u001b[49m\u001b[43m \u001b[49m\u001b[43mparams\u001b[49m\u001b[43m)\u001b[49m\n\u001b[1;32m    364\u001b[0m   \u001b[38;5;28;01mreturn\u001b[39;00m \u001b[38;5;28mmap\u001b[39m(full_lower, out) \u001b[38;5;28;01mif\u001b[39;00m \u001b[38;5;28mself\u001b[39m\u001b[38;5;241m.\u001b[39mmultiple_results \u001b[38;5;28;01melse\u001b[39;00m full_lower(out)\n",
      "File \u001b[0;32m~/miniconda3/lib/python3.10/site-packages/jax/_src/core.py:807\u001b[0m, in \u001b[0;36mEvalTrace.process_primitive\u001b[0;34m(self, primitive, tracers, params)\u001b[0m\n\u001b[1;32m    806\u001b[0m \u001b[38;5;28;01mdef\u001b[39;00m \u001b[38;5;21mprocess_primitive\u001b[39m(\u001b[38;5;28mself\u001b[39m, primitive, tracers, params):\n\u001b[0;32m--> 807\u001b[0m   \u001b[38;5;28;01mreturn\u001b[39;00m \u001b[43mprimitive\u001b[49m\u001b[38;5;241;43m.\u001b[39;49m\u001b[43mimpl\u001b[49m\u001b[43m(\u001b[49m\u001b[38;5;241;43m*\u001b[39;49m\u001b[43mtracers\u001b[49m\u001b[43m,\u001b[49m\u001b[43m \u001b[49m\u001b[38;5;241;43m*\u001b[39;49m\u001b[38;5;241;43m*\u001b[39;49m\u001b[43mparams\u001b[49m\u001b[43m)\u001b[49m\n",
      "File \u001b[0;32m~/miniconda3/lib/python3.10/site-packages/jax/_src/pjit.py:1291\u001b[0m, in \u001b[0;36m_pjit_call_impl\u001b[0;34m(jaxpr, in_shardings, out_shardings, resource_env, donated_invars, name, in_positional_semantics, out_positional_semantics, keep_unused, inline, *args)\u001b[0m\n\u001b[1;32m   1289\u001b[0m \u001b[38;5;28;01melse\u001b[39;00m:\n\u001b[1;32m   1290\u001b[0m   _allow_propagation_to_outputs \u001b[38;5;241m=\u001b[39m [\u001b[38;5;28;01mFalse\u001b[39;00m] \u001b[38;5;241m*\u001b[39m \u001b[38;5;28mlen\u001b[39m(out_shardings)\n\u001b[0;32m-> 1291\u001b[0m compiled \u001b[38;5;241m=\u001b[39m \u001b[43m_pjit_lower\u001b[49m\u001b[43m(\u001b[49m\n\u001b[1;32m   1292\u001b[0m \u001b[43m    \u001b[49m\u001b[43mjaxpr\u001b[49m\u001b[43m,\u001b[49m\u001b[43m \u001b[49m\u001b[43min_shardings\u001b[49m\u001b[43m,\u001b[49m\u001b[43m \u001b[49m\u001b[43mout_shardings\u001b[49m\u001b[43m,\u001b[49m\u001b[43m \u001b[49m\u001b[43mresource_env\u001b[49m\u001b[43m,\u001b[49m\n\u001b[1;32m   1293\u001b[0m \u001b[43m    \u001b[49m\u001b[43mdonated_invars\u001b[49m\u001b[43m,\u001b[49m\u001b[43m \u001b[49m\u001b[43mname\u001b[49m\u001b[43m,\u001b[49m\u001b[43m \u001b[49m\u001b[43min_is_global\u001b[49m\u001b[43m,\u001b[49m\u001b[43m \u001b[49m\u001b[43mkeep_unused\u001b[49m\u001b[43m,\u001b[49m\n\u001b[1;32m   1294\u001b[0m \u001b[43m    \u001b[49m\u001b[43malways_lower\u001b[49m\u001b[38;5;241;43m=\u001b[39;49m\u001b[38;5;28;43;01mFalse\u001b[39;49;00m\u001b[43m,\u001b[49m\u001b[43m \u001b[49m\u001b[43mlowering_platform\u001b[49m\u001b[38;5;241;43m=\u001b[39;49m\u001b[38;5;28;43;01mNone\u001b[39;49;00m\u001b[43m)\u001b[49m\u001b[38;5;241m.\u001b[39mcompile(\n\u001b[1;32m   1295\u001b[0m         _allow_propagation_to_outputs\u001b[38;5;241m=\u001b[39m_allow_propagation_to_outputs)\n\u001b[1;32m   1296\u001b[0m _most_recent_pjit_call_executable\u001b[38;5;241m.\u001b[39mvalue \u001b[38;5;241m=\u001b[39m compiled\n\u001b[1;32m   1297\u001b[0m \u001b[38;5;66;03m# This check is expensive so only do it if enable_checks is on.\u001b[39;00m\n",
      "File \u001b[0;32m~/miniconda3/lib/python3.10/site-packages/jax/_src/pjit.py:1377\u001b[0m, in \u001b[0;36m_pjit_lower\u001b[0;34m(jaxpr, in_shardings, out_shardings, *args, **kwargs)\u001b[0m\n\u001b[1;32m   1375\u001b[0m in_shardings \u001b[38;5;241m=\u001b[39m SameDeviceAssignmentTuple(in_shardings, da)\n\u001b[1;32m   1376\u001b[0m out_shardings \u001b[38;5;241m=\u001b[39m SameDeviceAssignmentTuple(out_shardings, da)\n\u001b[0;32m-> 1377\u001b[0m \u001b[38;5;28;01mreturn\u001b[39;00m \u001b[43m_pjit_lower_cached\u001b[49m\u001b[43m(\u001b[49m\u001b[43mjaxpr\u001b[49m\u001b[43m,\u001b[49m\u001b[43m \u001b[49m\u001b[43min_shardings\u001b[49m\u001b[43m,\u001b[49m\u001b[43m \u001b[49m\u001b[43mout_shardings\u001b[49m\u001b[43m,\u001b[49m\u001b[43m \u001b[49m\u001b[38;5;241;43m*\u001b[39;49m\u001b[43margs\u001b[49m\u001b[43m,\u001b[49m\u001b[43m \u001b[49m\u001b[38;5;241;43m*\u001b[39;49m\u001b[38;5;241;43m*\u001b[39;49m\u001b[43mkwargs\u001b[49m\u001b[43m)\u001b[49m\n",
      "File \u001b[0;32m~/miniconda3/lib/python3.10/site-packages/jax/_src/config.py:454\u001b[0m, in \u001b[0;36mConfig._trace_context\u001b[0;34m(self)\u001b[0m\n\u001b[1;32m    449\u001b[0m   \u001b[38;5;28msetattr\u001b[39m(Config, name, \u001b[38;5;28mproperty\u001b[39m(get_state))\n\u001b[1;32m    451\u001b[0m   \u001b[38;5;28;01mreturn\u001b[39;00m _StateContextManager(name, help, update_thread_local_hook,\n\u001b[1;32m    452\u001b[0m                               validate_new_val_hook)\n\u001b[0;32m--> 454\u001b[0m \u001b[38;5;28;01mdef\u001b[39;00m \u001b[38;5;21m_trace_context\u001b[39m(\u001b[38;5;28mself\u001b[39m):\n\u001b[1;32m    455\u001b[0m \u001b[38;5;250m  \u001b[39m\u001b[38;5;124;03m\"\"\"Returns a tuple of configuration values that affect tracing.\u001b[39;00m\n\u001b[1;32m    456\u001b[0m \n\u001b[1;32m    457\u001b[0m \u001b[38;5;124;03m  These values are included in the cache key for linear_util.cache.\u001b[39;00m\n\u001b[1;32m    458\u001b[0m \n\u001b[1;32m    459\u001b[0m \u001b[38;5;124;03m  Values included in this set should also most likely be included in\u001b[39;00m\n\u001b[1;32m    460\u001b[0m \u001b[38;5;124;03m  the C++ JIT state, which is handled separately.\"\"\"\u001b[39;00m\n\u001b[1;32m    461\u001b[0m   tls \u001b[38;5;241m=\u001b[39m jax_jit\u001b[38;5;241m.\u001b[39mthread_local_state()\n",
      "\u001b[0;31mKeyboardInterrupt\u001b[0m: "
     ]
    }
   ],
   "source": [
    "\n",
    "seed = jax.random.PRNGKey(42)\n",
    "learning_rate = jnp.array(1/1e3)\n",
    "epochs = 500\n",
    "layer_sizes = [10,10,1]\n",
    "\n",
    "weights = InitializeWeights(layer_sizes, seed)\n",
    "\n",
    "TrainModelInBatches(weights, X_train, Y_train, learning_rate, epochs, batch_size=32)\n",
    "\n",
    "def TrainModelInBatches(weights, X, Y, learning_rate, epochs, batch_size=32):\n",
    "    for i in range(epochs):\n",
    "        batches = jnp.arange((X.shape[0]//batch_size)+1) ### Batch Indices\n",
    "\n",
    "        losses = [] ## Record loss of each batch\n",
    "        for batch in batches:\n",
    "            if batch != batches[-1]:\n",
    "                start, end = int(batch*batch_size), int(batch*batch_size+batch_size)\n",
    "            else:\n",
    "                start, end = int(batch*batch_size), None\n",
    "\n",
    "            X_batch, Y_batch = X[start:end], Y[start:end] ## Single batch of data\n",
    "\n",
    "            loss = MeanSquaredErrorLoss(weights, X_batch, Y_batch) ## Loss of batch\n",
    "            gradients = CalculateGradients(weights, X_batch, Y_batch)\n",
    "            losses.append(loss) ## Record Loss\n",
    "\n",
    "            UpdateWeights(learning_rate, weights, gradients) ## Update Weights\n",
    "\n",
    "        if i % 10 == 0: ## Print MSE every 100 epochs\n",
    "            print(\"MSE : {:.2f}\".format(jnp.array(losses).mean()))\n",
    "\n",
    "def MakePredictions(weights, input_data, batch_size=32):\n",
    "    batches = jnp.arange((input_data.shape[0]//batch_size)+1) ### Batch Indices\n",
    "\n",
    "    preds = []\n",
    "    for batch in batches:\n",
    "        if batch != batches[-1]:\n",
    "            start, end = int(batch*batch_size), int(batch*batch_size+batch_size)\n",
    "        else:\n",
    "            start, end = int(batch*batch_size), None\n",
    "\n",
    "        X_batch = input_data[start:end]\n",
    "\n",
    "        preds.append(BatchForwardPass(weights, X_batch))\n",
    "\n",
    "    return preds\n",
    "\n",
    "\n",
    "test_preds = MakePredictions(weights, X_test)\n",
    "\n",
    "test_preds = jnp.concatenate(test_preds).squeeze()\n",
    "\n",
    "train_preds = MakePredictions(weights, X_train)\n",
    "\n",
    "train_preds = jnp.concatenate(train_preds).squeeze()"
   ]
  },
  {
   "cell_type": "code",
   "execution_count": null,
   "id": "e3a2c824",
   "metadata": {},
   "outputs": [],
   "source": []
  }
 ],
 "metadata": {
  "kernelspec": {
   "display_name": "Python 3 (ipykernel)",
   "language": "python",
   "name": "python3"
  },
  "language_info": {
   "codemirror_mode": {
    "name": "ipython",
    "version": 3
   },
   "file_extension": ".py",
   "mimetype": "text/x-python",
   "name": "python",
   "nbconvert_exporter": "python",
   "pygments_lexer": "ipython3",
   "version": "3.10.9"
  }
 },
 "nbformat": 4,
 "nbformat_minor": 5
}
